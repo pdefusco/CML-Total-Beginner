{
 "cells": [
  {
   "cell_type": "code",
   "execution_count": 30,
   "id": "c870c2fe-1ab7-4a23-87fe-f8efeb8ada70",
   "metadata": {},
   "outputs": [],
   "source": [
    "import pandas as pd"
   ]
  },
  {
   "cell_type": "code",
   "execution_count": 31,
   "id": "272c88c6-8779-414f-bd20-0cec57ee8fcc",
   "metadata": {},
   "outputs": [
    {
     "name": "stderr",
     "output_type": "stream",
     "text": [
      "/usr/local/lib/python3.7/site-packages/IPython/core/interactiveshell.py:3186: DtypeWarning: Columns (14) have mixed types. Specify dtype option on import or set low_memory=False.\n",
      "  interactivity=interactivity, compiler=compiler, result=result)\n"
     ]
    }
   ],
   "source": [
    "df = pd.read_csv(\"data/LoanStats_2015_subset_071821.csv\")#.iloc[:,1:10]"
   ]
  },
  {
   "cell_type": "code",
   "execution_count": 32,
   "id": "e229468c-7d5f-4065-851b-8864d935a154",
   "metadata": {},
   "outputs": [
    {
     "data": {
      "text/plain": [
       "acc_now_delinq                           int64\n",
       "acc_open_past_24mths                     int64\n",
       "addr_state                              object\n",
       "all_util                               float64\n",
       "annual_inc                             float64\n",
       "                                        ...   \n",
       "sec_app_open_act_il                    float64\n",
       "sec_app_num_rev_accts                  float64\n",
       "sec_app_chargeoff_within_12_mths       float64\n",
       "sec_app_collections_12_mths_ex_med     float64\n",
       "sec_app_mths_since_last_major_derog    float64\n",
       "Length: 105, dtype: object"
      ]
     },
     "execution_count": 32,
     "metadata": {},
     "output_type": "execute_result"
    }
   ],
   "source": [
    "df.dtypes"
   ]
  },
  {
   "cell_type": "code",
   "execution_count": 34,
   "id": "4b80cccf-f4ed-481c-9fb3-be76d7cdbfd8",
   "metadata": {},
   "outputs": [],
   "source": [
    "df = df.select_dtypes(\"float\")"
   ]
  },
  {
   "cell_type": "code",
   "execution_count": 35,
   "id": "09507f19-2e30-4034-bee1-d924436f1ed8",
   "metadata": {},
   "outputs": [],
   "source": [
    "df.to_csv(\"data/LoanStats_2015_subset_071821.csv\", index=False)"
   ]
  },
  {
   "cell_type": "code",
   "execution_count": null,
   "id": "308167a4-ef61-4f49-bc85-083337b5fd81",
   "metadata": {},
   "outputs": [],
   "source": []
  }
 ],
 "metadata": {
  "kernelspec": {
   "display_name": "Python 3 (ipykernel)",
   "language": "python",
   "name": "python3"
  },
  "language_info": {
   "codemirror_mode": {
    "name": "ipython",
    "version": 3
   },
   "file_extension": ".py",
   "mimetype": "text/x-python",
   "name": "python",
   "nbconvert_exporter": "python",
   "pygments_lexer": "ipython3",
   "version": "3.7.13"
  }
 },
 "nbformat": 4,
 "nbformat_minor": 5
}
