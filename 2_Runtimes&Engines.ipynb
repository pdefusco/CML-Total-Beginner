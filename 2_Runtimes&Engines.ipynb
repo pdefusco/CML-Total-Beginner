{
 "cells": [
  {
   "cell_type": "markdown",
   "id": "2a7bd8cf-d5e2-44bd-94e8-f3e8c9666349",
   "metadata": {},
   "source": [
    "## Runtimes and Legacy Engines"
   ]
  },
  {
   "cell_type": "markdown",
   "id": "9ce9e0b1-306c-4335-9b22-0edd5ae01101",
   "metadata": {},
   "source": [
    "#### ML Runtimes are responsible for running the code written by users and intermediating access to the Data and Computational Infrastructure. "
   ]
  },
  {
   "cell_type": "markdown",
   "id": "d41c34ad-c849-41d1-9b70-bb1000114bda",
   "metadata": {},
   "source": [
    "#### Thanks to runtimes, you can pip install any open source framework of your choice."
   ]
  },
  {
   "cell_type": "markdown",
   "id": "195fd03a-87bc-41c3-985f-ccb4096df5e1",
   "metadata": {},
   "source": [
    "![alt text](img/cml_howto_1.png)"
   ]
  },
  {
   "cell_type": "markdown",
   "id": "be85989e-cd5c-4201-bee5-95bb0edfff20",
   "metadata": {},
   "source": [
    "#### You can think of an ML Runtime as a virtual machine, customized to have all the necessary dependencies to access the computing cluster while keeping each project’s environment entirely isolated."
   ]
  },
  {
   "cell_type": "markdown",
   "id": "2b23a84a-0720-4845-bce5-b4fa5e07a7fe",
   "metadata": {
    "tags": []
   },
   "source": [
    "#### To ensure that every ML Runtime has access to the parcels and client configuration managed by the Cloudera Manager Agent, a number of folders are mounted from the host into the container environment."
   ]
  },
  {
   "cell_type": "markdown",
   "id": "160bdf85-523b-4d6c-8ef2-9f6a5a8137aa",
   "metadata": {},
   "source": [
    "#### The Cloudera Machine Learning team provides customers with a number of available runtimes for reuse, for example NVIDIA GPU based runtimes. You can access the full list of pre-installed packages [here](https://docs.cloudera.com/machine-learning/cloud/runtimes/topics/ml-runtimes-packaging.html)"
   ]
  },
  {
   "cell_type": "markdown",
   "id": "37e662bd-3f0e-4f2f-8d00-23b2e032385f",
   "metadata": {},
   "source": [
    "#### If you don't find a runtime with the dependencies you need, you can create a custom runtime "
   ]
  },
  {
   "cell_type": "markdown",
   "id": "b9d7d3b5-02fe-4751-927f-8386560815ae",
   "metadata": {},
   "source": [
    "![alt text](img/cml_howto_2.png)"
   ]
  },
  {
   "cell_type": "markdown",
   "id": "c68aed76-8fb3-41ef-a516-228c6b93fb26",
   "metadata": {},
   "source": [
    "#### For detailed documentation on CML Runtimes please visit [this page](\"https://docs.cloudera.com/machine-learning/cloud/runtimes/topics/ml-runtimes-overview.html\")"
   ]
  },
  {
   "cell_type": "markdown",
   "id": "7cc64a13-14a0-4c15-9fb7-aa83ba423d38",
   "metadata": {},
   "source": [
    "## Part 1: Navigating the Runtime Catalog at the Workspace Level"
   ]
  },
  {
   "cell_type": "markdown",
   "id": "ba705f3c-8e08-43be-98a4-02a852ff2d33",
   "metadata": {},
   "source": [
    "## Part 2: Creating a CML Project and Starting a Session with a CML Runtime"
   ]
  },
  {
   "cell_type": "markdown",
   "id": "f6ba751f-b7b9-4ed5-91a5-56de65197c61",
   "metadata": {},
   "source": [
    "## Part 3: Creating a Custom CML Runtime and Whitelisting it in a CML Workspace"
   ]
  },
  {
   "cell_type": "code",
   "execution_count": null,
   "id": "3b21f427-dd00-4956-87c4-9acee854abbc",
   "metadata": {},
   "outputs": [],
   "source": []
  }
 ],
 "metadata": {
  "kernelspec": {
   "display_name": "Python 3 (ipykernel)",
   "language": "python",
   "name": "python3"
  },
  "language_info": {
   "codemirror_mode": {
    "name": "ipython",
    "version": 3
   },
   "file_extension": ".py",
   "mimetype": "text/x-python",
   "name": "python",
   "nbconvert_exporter": "python",
   "pygments_lexer": "ipython3",
   "version": "3.7.13"
  }
 },
 "nbformat": 4,
 "nbformat_minor": 5
}
