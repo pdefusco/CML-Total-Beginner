{
 "cells": [
  {
   "cell_type": "markdown",
   "id": "d38766ac-5e4c-47cb-b450-624bf8971aba",
   "metadata": {},
   "source": [
    "## How to Easily Write a CSV File to the Data Lake with Spark"
   ]
  },
  {
   "cell_type": "markdown",
   "id": "4de7c4e0-9d0f-4fb0-aa5d-03836adf2c4a",
   "metadata": {},
   "source": [
    "#### This notebook showcases how to write a CSV file into a Hive or Imapala table with PySpark. There are three simple steps:\n",
    "##### 1. Save Storage Environment Variable (One Off)\n",
    "##### 2. Read the CSV file from a local CML Project Folder into Pandas\n",
    "##### 3. Transform the Pandas Dataframe to a Spark Dataframe and write that as a Hive table to the Data Lake"
   ]
  },
  {
   "cell_type": "markdown",
   "id": "0dbabad6-cd4b-45df-8957-da77476c02ab",
   "metadata": {},
   "source": [
    "### Step 1: Save Storage Environment Variable "
   ]
  },
  {
   "cell_type": "code",
   "execution_count": null,
   "id": "66276d0e-f585-4662-8923-7903e8cd3add",
   "metadata": {},
   "outputs": [],
   "source": []
  },
  {
   "cell_type": "code",
   "execution_count": null,
   "id": "526cd33f-1f49-432f-83a1-5cdfe8a71bdb",
   "metadata": {},
   "outputs": [],
   "source": []
  },
  {
   "cell_type": "code",
   "execution_count": null,
   "id": "2727aab0-a5d3-4c55-ae8d-421e16ed710b",
   "metadata": {},
   "outputs": [],
   "source": [
    "from pyspark.sql import SparkSession\n",
    "from pyspark.sql import functions as F"
   ]
  },
  {
   "cell_type": "code",
   "execution_count": null,
   "id": "3ea255d7-914d-4930-9dd4-cf7e0ab4379a",
   "metadata": {},
   "outputs": [],
   "source": [
    "import numpy as np\n",
    "import pandas as pd\n",
    "import os\n",
    "import matplotlib.pyplot as plt\n",
    "import seaborn as sns"
   ]
  },
  {
   "cell_type": "code",
   "execution_count": null,
   "id": "f237142a-6cd2-47f2-866a-7b77ea4537eb",
   "metadata": {},
   "outputs": [],
   "source": [
    "### "
   ]
  },
  {
   "cell_type": "code",
   "execution_count": null,
   "id": "e397e671-0dba-41a3-ad8a-491601471a4c",
   "metadata": {},
   "outputs": [],
   "source": []
  },
  {
   "cell_type": "code",
   "execution_count": null,
   "id": "ae0c25dc-264b-42f9-80a7-cc1b4f97edaf",
   "metadata": {},
   "outputs": [],
   "source": []
  },
  {
   "cell_type": "code",
   "execution_count": null,
   "id": "56735295-8128-419c-b412-a31a0f936d60",
   "metadata": {},
   "outputs": [],
   "source": []
  },
  {
   "cell_type": "code",
   "execution_count": null,
   "id": "96f322a1-1ea7-459b-80c4-603514647fc6",
   "metadata": {},
   "outputs": [],
   "source": []
  }
 ],
 "metadata": {
  "kernelspec": {
   "display_name": "Python 3 (ipykernel)",
   "language": "python",
   "name": "python3"
  },
  "language_info": {
   "codemirror_mode": {
    "name": "ipython",
    "version": 3
   },
   "file_extension": ".py",
   "mimetype": "text/x-python",
   "name": "python",
   "nbconvert_exporter": "python",
   "pygments_lexer": "ipython3",
   "version": "3.7.13"
  }
 },
 "nbformat": 4,
 "nbformat_minor": 5
}
