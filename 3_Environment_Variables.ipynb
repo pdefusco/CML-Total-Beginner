{
 "cells": [
  {
   "cell_type": "markdown",
   "id": "f1aaa92c-df99-4609-9eec-3837490107aa",
   "metadata": {},
   "source": [
    "## Environment Variables"
   ]
  },
  {
   "cell_type": "markdown",
   "id": "df3d99e7-3f3c-4171-80d1-034256dcf276",
   "metadata": {},
   "source": [
    "CML Environment Variables allow you to save and reuse secrets or simply parameters inside your scripts, jobs, experiments, etc."
   ]
  },
  {
   "cell_type": "markdown",
   "id": "37f594c4-1a57-4498-a74a-719d5ab12815",
   "metadata": {},
   "source": [
    "You can set them at the workspace or project level. In addition, you can apply other variables to experiments, jobs and models when you deploy them. "
   ]
  },
  {
   "cell_type": "markdown",
   "id": "9cdbb39f-1e25-47e6-8df6-93294afa01db",
   "metadata": {},
   "source": [
    "### Part 1: Setting Workspace and Project Environment Variables Manually"
   ]
  },
  {
   "cell_type": "markdown",
   "id": "69aa516b-73d1-4020-ae44-741766b88e14",
   "metadata": {},
   "source": [
    "### Part 2: Setting Project Environment Variables Programmatically"
   ]
  },
  {
   "cell_type": "markdown",
   "id": "1e666f06-6b96-4f1a-9e22-a84fcdc37cd4",
   "metadata": {},
   "source": [
    "### Part 3: Setting Environmnent Variables for CML Experiments, Jobs and Models"
   ]
  },
  {
   "cell_type": "code",
   "execution_count": null,
   "id": "4ce7e2b5-57bb-4bae-9a65-c63c7bd1b06a",
   "metadata": {},
   "outputs": [],
   "source": []
  }
 ],
 "metadata": {
  "kernelspec": {
   "display_name": "Python 3 (ipykernel)",
   "language": "python",
   "name": "python3"
  },
  "language_info": {
   "codemirror_mode": {
    "name": "ipython",
    "version": 3
   },
   "file_extension": ".py",
   "mimetype": "text/x-python",
   "name": "python",
   "nbconvert_exporter": "python",
   "pygments_lexer": "ipython3",
   "version": "3.7.13"
  }
 },
 "nbformat": 4,
 "nbformat_minor": 5
}
