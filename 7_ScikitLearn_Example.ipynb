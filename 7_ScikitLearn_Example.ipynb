{
 "cells": [
  {
   "cell_type": "markdown",
   "id": "43b984f6-bd5c-469b-a1ed-12a0fac592c3",
   "metadata": {},
   "source": [
    "## Simple SciKit Learn Example"
   ]
  },
  {
   "cell_type": "markdown",
   "id": "8b90f893-c7a2-4c1e-a9f4-8566f0fa358b",
   "metadata": {},
   "source": [
    "#### Load Python Libraries"
   ]
  },
  {
   "cell_type": "code",
   "execution_count": 17,
   "id": "c870c2fe-1ab7-4a23-87fe-f8efeb8ada70",
   "metadata": {},
   "outputs": [],
   "source": [
    "from sklearn import datasets\n",
    "import numpy as np\n",
    "import matplotlib.pyplot as plt"
   ]
  },
  {
   "cell_type": "code",
   "execution_count": 23,
   "id": "4191d291-36ba-412a-84d7-38679312c93b",
   "metadata": {},
   "outputs": [],
   "source": [
    "from sklearn.model_selection import train_test_split\n",
    "from sklearn.preprocessing import StandardScaler\n",
    "from sklearn.decomposition import PCA\n",
    "from sklearn.tree import DecisionTreeClassifier\n",
    "from sklearn.ensemble import GradientBoostingClassifier"
   ]
  },
  {
   "cell_type": "markdown",
   "id": "2646accc-a18d-4cdd-86a4-2ad6475a77b7",
   "metadata": {},
   "source": [
    "#### Load Datasets"
   ]
  },
  {
   "cell_type": "markdown",
   "id": "6b7aae31-76a5-4cde-8bdb-3923f4249465",
   "metadata": {},
   "source": [
    "#### Split Data into Training and Test Sets"
   ]
  },
  {
   "cell_type": "code",
   "execution_count": 2,
   "id": "272c88c6-8779-414f-bd20-0cec57ee8fcc",
   "metadata": {},
   "outputs": [],
   "source": [
    "iris = datasets.load_iris()\n",
    "x = iris.data\n",
    "y = iris.target"
   ]
  },
  {
   "cell_type": "code",
   "execution_count": 7,
   "id": "fd09c436-17b2-4a6c-9e7e-50f0513806b2",
   "metadata": {},
   "outputs": [],
   "source": [
    "x_train, x_test, y_train, y_test = train_test_split(x, y, test_size = 0.25)"
   ]
  },
  {
   "cell_type": "markdown",
   "id": "68c03cdd-dd85-4d8d-968e-2fadb7ea375d",
   "metadata": {},
   "source": [
    "#### Instantiate the Pipeline"
   ]
  },
  {
   "cell_type": "code",
   "execution_count": 8,
   "id": "22c230e4-a778-41cd-b87e-7458d01ef4ea",
   "metadata": {},
   "outputs": [],
   "source": [
    "from sklearn.pipeline import Pipeline\n",
    "pipeline = Pipeline([('pca', PCA(n_components = 4)), ('std', StandardScaler()), ('Decision_tree', DecisionTreeClassifier())], verbose = True)"
   ]
  },
  {
   "cell_type": "markdown",
   "id": "d4c1086b-ca87-4529-91a8-716c303375ce",
   "metadata": {},
   "source": [
    "#### Display Pipeline"
   ]
  },
  {
   "cell_type": "code",
   "execution_count": 9,
   "id": "318032dc-886b-41b7-8e1f-5b180bbf09c3",
   "metadata": {},
   "outputs": [],
   "source": [
    "from sklearn import set_config"
   ]
  },
  {
   "cell_type": "code",
   "execution_count": 10,
   "id": "579f2c80-c327-4e8a-8559-d9096bf2310b",
   "metadata": {},
   "outputs": [
    {
     "data": {
      "text/html": [
       "<style>#sk-f3c62c3d-2ee1-4370-9c7a-9a23d51fc7e3 {color: black;background-color: white;}#sk-f3c62c3d-2ee1-4370-9c7a-9a23d51fc7e3 pre{padding: 0;}#sk-f3c62c3d-2ee1-4370-9c7a-9a23d51fc7e3 div.sk-toggleable {background-color: white;}#sk-f3c62c3d-2ee1-4370-9c7a-9a23d51fc7e3 label.sk-toggleable__label {cursor: pointer;display: block;width: 100%;margin-bottom: 0;padding: 0.3em;box-sizing: border-box;text-align: center;}#sk-f3c62c3d-2ee1-4370-9c7a-9a23d51fc7e3 label.sk-toggleable__label-arrow:before {content: \"▸\";float: left;margin-right: 0.25em;color: #696969;}#sk-f3c62c3d-2ee1-4370-9c7a-9a23d51fc7e3 label.sk-toggleable__label-arrow:hover:before {color: black;}#sk-f3c62c3d-2ee1-4370-9c7a-9a23d51fc7e3 div.sk-estimator:hover label.sk-toggleable__label-arrow:before {color: black;}#sk-f3c62c3d-2ee1-4370-9c7a-9a23d51fc7e3 div.sk-toggleable__content {max-height: 0;max-width: 0;overflow: hidden;text-align: left;background-color: #f0f8ff;}#sk-f3c62c3d-2ee1-4370-9c7a-9a23d51fc7e3 div.sk-toggleable__content pre {margin: 0.2em;color: black;border-radius: 0.25em;background-color: #f0f8ff;}#sk-f3c62c3d-2ee1-4370-9c7a-9a23d51fc7e3 input.sk-toggleable__control:checked~div.sk-toggleable__content {max-height: 200px;max-width: 100%;overflow: auto;}#sk-f3c62c3d-2ee1-4370-9c7a-9a23d51fc7e3 input.sk-toggleable__control:checked~label.sk-toggleable__label-arrow:before {content: \"▾\";}#sk-f3c62c3d-2ee1-4370-9c7a-9a23d51fc7e3 div.sk-estimator input.sk-toggleable__control:checked~label.sk-toggleable__label {background-color: #d4ebff;}#sk-f3c62c3d-2ee1-4370-9c7a-9a23d51fc7e3 div.sk-label input.sk-toggleable__control:checked~label.sk-toggleable__label {background-color: #d4ebff;}#sk-f3c62c3d-2ee1-4370-9c7a-9a23d51fc7e3 input.sk-hidden--visually {border: 0;clip: rect(1px 1px 1px 1px);clip: rect(1px, 1px, 1px, 1px);height: 1px;margin: -1px;overflow: hidden;padding: 0;position: absolute;width: 1px;}#sk-f3c62c3d-2ee1-4370-9c7a-9a23d51fc7e3 div.sk-estimator {font-family: monospace;background-color: #f0f8ff;border: 1px dotted black;border-radius: 0.25em;box-sizing: border-box;margin-bottom: 0.5em;}#sk-f3c62c3d-2ee1-4370-9c7a-9a23d51fc7e3 div.sk-estimator:hover {background-color: #d4ebff;}#sk-f3c62c3d-2ee1-4370-9c7a-9a23d51fc7e3 div.sk-parallel-item::after {content: \"\";width: 100%;border-bottom: 1px solid gray;flex-grow: 1;}#sk-f3c62c3d-2ee1-4370-9c7a-9a23d51fc7e3 div.sk-label:hover label.sk-toggleable__label {background-color: #d4ebff;}#sk-f3c62c3d-2ee1-4370-9c7a-9a23d51fc7e3 div.sk-serial::before {content: \"\";position: absolute;border-left: 1px solid gray;box-sizing: border-box;top: 2em;bottom: 0;left: 50%;}#sk-f3c62c3d-2ee1-4370-9c7a-9a23d51fc7e3 div.sk-serial {display: flex;flex-direction: column;align-items: center;background-color: white;padding-right: 0.2em;padding-left: 0.2em;}#sk-f3c62c3d-2ee1-4370-9c7a-9a23d51fc7e3 div.sk-item {z-index: 1;}#sk-f3c62c3d-2ee1-4370-9c7a-9a23d51fc7e3 div.sk-parallel {display: flex;align-items: stretch;justify-content: center;background-color: white;}#sk-f3c62c3d-2ee1-4370-9c7a-9a23d51fc7e3 div.sk-parallel::before {content: \"\";position: absolute;border-left: 1px solid gray;box-sizing: border-box;top: 2em;bottom: 0;left: 50%;}#sk-f3c62c3d-2ee1-4370-9c7a-9a23d51fc7e3 div.sk-parallel-item {display: flex;flex-direction: column;position: relative;background-color: white;}#sk-f3c62c3d-2ee1-4370-9c7a-9a23d51fc7e3 div.sk-parallel-item:first-child::after {align-self: flex-end;width: 50%;}#sk-f3c62c3d-2ee1-4370-9c7a-9a23d51fc7e3 div.sk-parallel-item:last-child::after {align-self: flex-start;width: 50%;}#sk-f3c62c3d-2ee1-4370-9c7a-9a23d51fc7e3 div.sk-parallel-item:only-child::after {width: 0;}#sk-f3c62c3d-2ee1-4370-9c7a-9a23d51fc7e3 div.sk-dashed-wrapped {border: 1px dashed gray;margin: 0 0.4em 0.5em 0.4em;box-sizing: border-box;padding-bottom: 0.4em;background-color: white;position: relative;}#sk-f3c62c3d-2ee1-4370-9c7a-9a23d51fc7e3 div.sk-label label {font-family: monospace;font-weight: bold;background-color: white;display: inline-block;line-height: 1.2em;}#sk-f3c62c3d-2ee1-4370-9c7a-9a23d51fc7e3 div.sk-label-container {position: relative;z-index: 2;text-align: center;}#sk-f3c62c3d-2ee1-4370-9c7a-9a23d51fc7e3 div.sk-container {/* jupyter's `normalize.less` sets `[hidden] { display: none; }` but bootstrap.min.css set `[hidden] { display: none !important; }` so we also need the `!important` here to be able to override the default hidden behavior on the sphinx rendered scikit-learn.org. See: https://github.com/scikit-learn/scikit-learn/issues/21755 */display: inline-block !important;position: relative;}#sk-f3c62c3d-2ee1-4370-9c7a-9a23d51fc7e3 div.sk-text-repr-fallback {display: none;}</style><div id=\"sk-f3c62c3d-2ee1-4370-9c7a-9a23d51fc7e3\" class=\"sk-top-container\"><div class=\"sk-text-repr-fallback\"><pre>Pipeline(steps=[(&#x27;pca&#x27;, PCA(n_components=4)), (&#x27;std&#x27;, StandardScaler()),\n",
       "                (&#x27;Decision_tree&#x27;, DecisionTreeClassifier())],\n",
       "         verbose=True)</pre><b>Please rerun this cell to show the HTML repr or trust the notebook.</b></div><div class=\"sk-container\" hidden><div class=\"sk-item sk-dashed-wrapped\"><div class=\"sk-label-container\"><div class=\"sk-label sk-toggleable\"><input class=\"sk-toggleable__control sk-hidden--visually\" id=\"d616c4b8-b132-4d50-a153-1f76e7d99233\" type=\"checkbox\" ><label for=\"d616c4b8-b132-4d50-a153-1f76e7d99233\" class=\"sk-toggleable__label sk-toggleable__label-arrow\">Pipeline</label><div class=\"sk-toggleable__content\"><pre>Pipeline(steps=[(&#x27;pca&#x27;, PCA(n_components=4)), (&#x27;std&#x27;, StandardScaler()),\n",
       "                (&#x27;Decision_tree&#x27;, DecisionTreeClassifier())],\n",
       "         verbose=True)</pre></div></div></div><div class=\"sk-serial\"><div class=\"sk-item\"><div class=\"sk-estimator sk-toggleable\"><input class=\"sk-toggleable__control sk-hidden--visually\" id=\"c595eae5-d116-4049-a5e1-59632c8d8277\" type=\"checkbox\" ><label for=\"c595eae5-d116-4049-a5e1-59632c8d8277\" class=\"sk-toggleable__label sk-toggleable__label-arrow\">PCA</label><div class=\"sk-toggleable__content\"><pre>PCA(n_components=4)</pre></div></div></div><div class=\"sk-item\"><div class=\"sk-estimator sk-toggleable\"><input class=\"sk-toggleable__control sk-hidden--visually\" id=\"b6cdaf1f-f3c8-4ff9-be34-4ddee447fc1b\" type=\"checkbox\" ><label for=\"b6cdaf1f-f3c8-4ff9-be34-4ddee447fc1b\" class=\"sk-toggleable__label sk-toggleable__label-arrow\">StandardScaler</label><div class=\"sk-toggleable__content\"><pre>StandardScaler()</pre></div></div></div><div class=\"sk-item\"><div class=\"sk-estimator sk-toggleable\"><input class=\"sk-toggleable__control sk-hidden--visually\" id=\"66200a54-87f3-4b91-bb28-4818913c26fe\" type=\"checkbox\" ><label for=\"66200a54-87f3-4b91-bb28-4818913c26fe\" class=\"sk-toggleable__label sk-toggleable__label-arrow\">DecisionTreeClassifier</label><div class=\"sk-toggleable__content\"><pre>DecisionTreeClassifier()</pre></div></div></div></div></div></div></div>"
      ],
      "text/plain": [
       "Pipeline(steps=[('pca', PCA(n_components=4)), ('std', StandardScaler()),\n",
       "                ('Decision_tree', DecisionTreeClassifier())],\n",
       "         verbose=True)"
      ]
     },
     "execution_count": 10,
     "metadata": {},
     "output_type": "execute_result"
    }
   ],
   "source": [
    "set_config(display=\"diagram\")\n",
    "pipeline"
   ]
  },
  {
   "cell_type": "markdown",
   "id": "01949ba7-e527-4f6e-b97c-97cc38a4970c",
   "metadata": {},
   "source": [
    "#### Fit Pipeline"
   ]
  },
  {
   "cell_type": "code",
   "execution_count": 5,
   "id": "984d6f48-fdea-4ce3-b4d7-8d4e4eb2ab03",
   "metadata": {},
   "outputs": [
    {
     "name": "stdout",
     "output_type": "stream",
     "text": [
      "[Pipeline] ............... (step 1 of 3) Processing pca, total=   0.0s\n",
      "[Pipeline] ............... (step 2 of 3) Processing std, total=   0.0s\n",
      "[Pipeline] ..... (step 3 of 3) Processing Decision_tree, total=   0.0s\n"
     ]
    },
    {
     "data": {
      "text/plain": [
       "Pipeline(steps=[('pca', PCA(n_components=4)), ('std', StandardScaler()),\n",
       "                ('Decision_tree', DecisionTreeClassifier())],\n",
       "         verbose=True)"
      ]
     },
     "execution_count": 5,
     "metadata": {},
     "output_type": "execute_result"
    }
   ],
   "source": [
    " pipeline.fit(x_train, y_train)"
   ]
  },
  {
   "cell_type": "code",
   "execution_count": 6,
   "id": "e229468c-7d5f-4065-851b-8864d935a154",
   "metadata": {},
   "outputs": [
    {
     "data": {
      "text/plain": [
       "{'memory': None,\n",
       " 'steps': [('pca', PCA(n_components=4)),\n",
       "  ('std', StandardScaler()),\n",
       "  ('Decision_tree', DecisionTreeClassifier())],\n",
       " 'verbose': True,\n",
       " 'pca': PCA(n_components=4),\n",
       " 'std': StandardScaler(),\n",
       " 'Decision_tree': DecisionTreeClassifier(),\n",
       " 'pca__copy': True,\n",
       " 'pca__iterated_power': 'auto',\n",
       " 'pca__n_components': 4,\n",
       " 'pca__random_state': None,\n",
       " 'pca__svd_solver': 'auto',\n",
       " 'pca__tol': 0.0,\n",
       " 'pca__whiten': False,\n",
       " 'std__copy': True,\n",
       " 'std__with_mean': True,\n",
       " 'std__with_std': True,\n",
       " 'Decision_tree__ccp_alpha': 0.0,\n",
       " 'Decision_tree__class_weight': None,\n",
       " 'Decision_tree__criterion': 'gini',\n",
       " 'Decision_tree__max_depth': None,\n",
       " 'Decision_tree__max_features': None,\n",
       " 'Decision_tree__max_leaf_nodes': None,\n",
       " 'Decision_tree__min_impurity_decrease': 0.0,\n",
       " 'Decision_tree__min_samples_leaf': 1,\n",
       " 'Decision_tree__min_samples_split': 2,\n",
       " 'Decision_tree__min_weight_fraction_leaf': 0.0,\n",
       " 'Decision_tree__random_state': None,\n",
       " 'Decision_tree__splitter': 'best'}"
      ]
     },
     "execution_count": 6,
     "metadata": {},
     "output_type": "execute_result"
    }
   ],
   "source": [
    "# to see all the hyper parameters\n",
    "pipeline.get_params()"
   ]
  },
  {
   "cell_type": "markdown",
   "id": "05fafb71-d2e6-446a-bbd9-e4da01dc0db6",
   "metadata": {},
   "source": [
    "#### Plotting Validation Curves"
   ]
  },
  {
   "cell_type": "code",
   "execution_count": 11,
   "id": "971f8a33-8d55-4361-a718-7f1cbf5e2b24",
   "metadata": {},
   "outputs": [],
   "source": [
    "from sklearn.model_selection import validation_curve"
   ]
  },
  {
   "cell_type": "code",
   "execution_count": 24,
   "id": "27822850-882f-4935-96a4-2974d0d32d78",
   "metadata": {},
   "outputs": [],
   "source": [
    "param_range = np.arange(5,40,5)\n",
    "train_scores, test_scores = validation_curve(\n",
    "    GradientBoostingClassifier(),\n",
    "    x_train,\n",
    "    y_train,\n",
    "    param_name=\"learning_rate\",\n",
    "    param_range=param_range,\n",
    "    scoring=\"accuracy\",\n",
    "    n_jobs=2,\n",
    ")\n",
    "train_scores_mean = np.mean(train_scores, axis=1)\n",
    "train_scores_std = np.std(train_scores, axis=1)\n",
    "test_scores_mean = np.mean(test_scores, axis=1)\n",
    "test_scores_std = np.std(test_scores, axis=1)"
   ]
  },
  {
   "cell_type": "code",
   "execution_count": 26,
   "id": "00fe1a3d-ea86-4051-a9c5-46ea386d2472",
   "metadata": {},
   "outputs": [
    {
     "data": {
      "image/png": "[encoded data removed]",
      "text/plain": [
       "<Figure size 432x288 with 1 Axes>"
      ]
     },
     "metadata": {
      "needs_background": "light"
     },
     "output_type": "display_data"
    }
   ],
   "source": [
    "plt.title(\"Validation Curve with Gradient Boosting\")\n",
    "plt.xlabel(r\"$\\gamma$\")\n",
    "plt.ylabel(\"Score\")\n",
    "plt.ylim(0.0, 1.1)\n",
    "lw = 0.2\n",
    "plt.semilogx(\n",
    "    param_range, train_scores_mean, label=\"Training score\", color=\"darkorange\", lw=lw\n",
    ")\n",
    "plt.fill_between(\n",
    "    param_range,\n",
    "    train_scores_mean - train_scores_std,\n",
    "    train_scores_mean + train_scores_std,\n",
    "    alpha=0.2,\n",
    "    color=\"darkorange\",\n",
    "    lw=lw,\n",
    ")\n",
    "plt.semilogx(\n",
    "    param_range, test_scores_mean, label=\"Cross-validation score\", color=\"navy\", lw=lw\n",
    ")\n",
    "plt.fill_between(\n",
    "    param_range,\n",
    "    test_scores_mean - test_scores_std,\n",
    "    test_scores_mean + test_scores_std,\n",
    "    alpha=0.2,\n",
    "    color=\"navy\",\n",
    "    lw=lw,\n",
    ")\n",
    "plt.legend(loc=\"best\")\n",
    "plt.show()"
   ]
  },
  {
   "cell_type": "code",
   "execution_count": null,
   "id": "f4008f7d-e1e6-4c6a-aa70-446503a06ef6",
   "metadata": {},
   "outputs": [],
   "source": []
  }
 ],
 "metadata": {
  "kernelspec": {
   "display_name": "Python 3 (ipykernel)",
   "language": "python",
   "name": "python3"
  },
  "language_info": {
   "codemirror_mode": {
    "name": "ipython",
    "version": 3
   },
   "file_extension": ".py",
   "mimetype": "text/x-python",
   "name": "python",
   "nbconvert_exporter": "python",
   "pygments_lexer": "ipython3",
   "version": "3.7.13"
  }
 },
 "nbformat": 4,
 "nbformat_minor": 5
}
