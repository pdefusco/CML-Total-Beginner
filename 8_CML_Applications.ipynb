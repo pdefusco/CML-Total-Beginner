{
 "cells": [
  {
   "cell_type": "markdown",
   "id": "33a07e54-261b-46bc-bd63-078b9df01852",
   "metadata": {},
   "source": [
    "## CML Applications"
   ]
  },
  {
   "cell_type": "code",
   "execution_count": null,
   "id": "a58ed56f-7653-4f70-bd6b-e598bcf1ff46",
   "metadata": {},
   "outputs": [],
   "source": []
  },
  {
   "cell_type": "code",
   "execution_count": null,
   "id": "c57ad64f-3a7a-4ad5-95ce-990ce0ac0c6c",
   "metadata": {},
   "outputs": [],
   "source": []
  },
  {
   "cell_type": "code",
   "execution_count": null,
   "id": "6365b39e-300a-4b49-927f-9d2e3c4108f4",
   "metadata": {},
   "outputs": [],
   "source": []
  },
  {
   "cell_type": "markdown",
   "id": "0c3256a2-c850-4d19-a6e9-068c565eb3ac",
   "metadata": {},
   "source": [
    "#### This notebook is WIP. In the meantime, you can follow this tutorial here:"
   ]
  },
  {
   "cell_type": "markdown",
   "id": "ff628a0a-4949-4cb8-8ae0-3efff809131f",
   "metadata": {},
   "source": [
    "https://blog.cloudera.com/building-an-interactive-machine-learning-application-with-cml/"
   ]
  },
  {
   "cell_type": "markdown",
   "id": "8803bf1f-bf2f-44ec-9874-ca776b47291d",
   "metadata": {},
   "source": [
    "https://docs.cloudera.com/machine-learning/cloud/applications/topics/ml-applications-c.html"
   ]
  },
  {
   "cell_type": "code",
   "execution_count": null,
   "id": "5b962099-de85-48cc-94ab-dc7bd0f72693",
   "metadata": {},
   "outputs": [],
   "source": []
  }
 ],
 "metadata": {
  "kernelspec": {
   "display_name": "Python 3 (ipykernel)",
   "language": "python",
   "name": "python3"
  },
  "language_info": {
   "codemirror_mode": {
    "name": "ipython",
    "version": 3
   },
   "file_extension": ".py",
   "mimetype": "text/x-python",
   "name": "python",
   "nbconvert_exporter": "python",
   "pygments_lexer": "ipython3",
   "version": "3.7.13"
  }
 },
 "nbformat": 4,
 "nbformat_minor": 5
}
